{
  "nbformat": 4,
  "nbformat_minor": 0,
  "metadata": {
    "colab": {
      "name": "Income Tax Paying Population.ipynb",
      "provenance": [],
      "authorship_tag": "ABX9TyNSBOzhlbkWEBe0Hq7WzIl4",
      "include_colab_link": true
    },
    "kernelspec": {
      "name": "python3",
      "display_name": "Python 3"
    },
    "language_info": {
      "name": "python"
    }
  },
  "cells": [
    {
      "cell_type": "markdown",
      "metadata": {
        "id": "view-in-github",
        "colab_type": "text"
      },
      "source": [
        "<a href=\"https://colab.research.google.com/github/abhishekbm1996/fintec-income-tax/blob/main/Income_Tax_Paying_Population.ipynb\" target=\"_parent\"><img src=\"https://colab.research.google.com/assets/colab-badge.svg\" alt=\"Open In Colab\"/></a>"
      ]
    },
    {
      "cell_type": "markdown",
      "metadata": {
        "id": "NMX4xLpP8U5A"
      },
      "source": [
        "# Getting data about tax payers from Income Tax website of India"
      ]
    },
    {
      "cell_type": "code",
      "metadata": {
        "id": "1pWacVEs8wct"
      },
      "source": [
        "import urllib.request\n",
        "from bs4 import BeautifulSoup\n",
        "import matplotlib.pyplot as plt\n",
        "import numpy"
      ],
      "execution_count": 82,
      "outputs": []
    },
    {
      "cell_type": "code",
      "metadata": {
        "colab": {
          "base_uri": "https://localhost:8080/"
        },
        "id": "PLgKFbge8LSx",
        "outputId": "0f5ff64d-751a-4511-cd1d-b6bf93326346"
      },
      "source": [
        "url = \"https://www.incometaxindia.gov.in/Charts%20%20Tables/Why%20should%20I%20pay%20tax.htm#:~:text=Taxes%20are%20used%20by%20the,welfare%20schemes%20including%20employment%20programmes.&text=Thus%20on%20considering%20these%20various,act%20like%20a%20responsible%20citizen.\"\n",
        "\n",
        "html = urllib.request.urlopen(url)\n",
        "\n",
        "htmlParse = BeautifulSoup(html, 'html.parser')\n",
        "i = 0\n",
        "inTxData = []\n",
        "for para in htmlParse.find_all(\"p\"):\n",
        "    inTxData.append(para.get_text())\n",
        "    print(para.get_text())\n",
        "    i = i+1"
      ],
      "execution_count": 40,
      "outputs": [
        {
          "output_type": "stream",
          "name": "stdout",
          "text": [
            "'Why should I pay tax?'\n",
            " \n",
            "The citizens of India are required to pay Income tax as well as other taxes as per law. \n",
            " \n",
            " 1. \tSome people raise the question 'Why should I pay tax? They argue: I have to pay for my food, for my house, for my travel, for my medical treatment, for owning a vehicle not only cost of vehicle but also vehicle tax and what not. Even on many roads, one has to pay toll tax! They also say that if we compare with countries like USA and UK, the people get social security as also medical facilities virtually without any cost. But India does not offer such facilities.\t\r\n",
            "\n",
            " 2. \tWhat does the Government do for citizens :\n",
            "It is true that India does not offer social security and free medical facilities as being provided in some developed countries. But we need to ponder over the issue with a larger canvass. We need to appreciate that the Government has to discharge a number of responsibilities, which include Health care through Government hospitals (usually they offer service without any cost), Education (In Municipal and Government schools the fee is negligible). The Government also provides cooking gas at concessional rate or gives subsidy. Of course the major expenditure of Government has to be incurred on National Defence, Infrastructure Developments etc. Taxes are used by the government for carrying out various welfare schemes including employment programmes. There are Lakhs of employees in various departments and the administrative cost has to be borne by the Government. Though the judicial process involves delay, yet the Salaries, perks of Judges, Magistrates and judicial staff has also to be paid by the Government. Thus on considering these various duties of the Government, we need to appreciate that we must pay tax as per law. We have to act like a responsible citizen.\t\r\n",
            "\n",
            " 3.\t Why tax considered as burden and not a price we pay for civilisation :\n",
            "A tax payer in general feels that taxes are a burden and it is human tendency to avoid payment of tax or at least minimising the tax liability. In earlier years the tax rates were also exorbitant. Prior to Eighties, the rate of Income-tax was as much as 97.75 per cent inclusive of surcharge. But now the scenario is fast changing. Though the tax rates have been lowered, but still our country lacks desired tax culture like developed nations. It has been said by Justice Homes of the US Supreme Court that \"Taxes are the price for civilisation\". It is time tax is no longer considered as burden but a price for civilization.\t\r\n",
            "\n",
            "4.\tLet us join hands to develop tax culture:\n",
            " a)  It is an admitted fact that in India, we are lacking tax culture. Despite considerable efforts for widening the tax base, still the number of taxpayers in our country, is about \r\n",
            "82.7 million people which is\r\n",
            "6.25 per cent of the over 132 crore population, which is too small for our country. In contrast, in the U.S., about 45 per cent of the population pays taxes. There are many reasons for this. Part of it has to do with the fact that many Indians do not earn enough annual income to even qualify to pay income tax, but a larger factor has to do with lack of tax culture, as also India's huge rural and underground economies. \n",
            " b) \t A taxpayer feels that the tax system in our country is ludicrously complicated, confounding, contradictory, wracked by inefficiency, incompetence and to some extent corruption. However, in contrast with the highest rate of 97.75 per cent income tax (including surcharge) in seventies, now Indians earning upto Rs. 2.5 Lakhs annually (which cover the overwhelming majority of the country) are exempt for paying any income tax. Those earning between Rs. 2.5 Lakhs and 5 Lakhs are subject to \r\n",
            "5 per cent tax; those earning between 5 Lakhs and 10 lakhs rupees, 20 percent tax; and those above 10 lakhs, a 30 percent rate. \r\n",
            "Further you are not required to any Income-tax if your total income doesn't \r\n",
            "exceed Rs. 5,00,000. This is done by providing tax rebate of upto Rs. 12,500 in \r\n",
            "case of small taxpayers earning income upto Rs. 5,00,000.\n",
            "The Finance Act, 2020 has also introduced new optional tax regime for Individual and HUF wherein no tax is payable on income upto Rs. 2.5 Lakhs annually. Those between Rs. 2.5 Lakhs and 5 Lakhs are subject to 5 per cent tax; those earning between 5 Lakhs and 7.5 lakhs rupees, 10 percent tax; those earning between 7.5 Lakhs and 10 lakhs rupees, 15 percent tax; those earning between 10 Lakhs and 12.50 lakhs rupees, 20 percent tax; those earning between 12.5 Lakhs and 15 lakhs rupees, 25 percent tax; and those above 15 lakhs, a 30 percent rate. Here also tax rebate of upto Rs. 12,500 is provided in case of small taxpayers earning income upto Rs. 5,00,000.\n",
            " c)  For sure, potential for tax collection is much higher than what we achieve at present but that is possible if we take adequate and sustained efforts for developing tax culture and also take sincere steps for minimizing harassment of tax-payers as well as develop sense of accountability to ensure hassle –free service, just and fair dealing with the taxpayers. The government \r\n",
            "provisional figure for tax collection was Rs \r\n",
            "9.45 lakh crore for the financial year 2020-21\n",
            " d)  The department has already started to focus on non-filers and stop-filers in order to enhance the tax base. We should aim at achieving a tax regulation regimen in India which can match the best in the world. According to the Credit Suisse Global Wealth Report, India now has some \r\n",
            "1815 ultra high net worth individuals with wealth of at least $50 million, 761 who have more than $100 million of assets \r\n",
            "and about 2,45,000 millionaires. On the other side of the wealth spectrum, it reflects India's immense income inequality, 95 percent of the Indians have assets below $10,000.\n",
            " 5. \tThe reasons for apathy of the government and the taxpayers towards the tax payment and development of tax culture are:-\n",
            " a) \tMost people feel that tax is a burden and should be avoided. \n",
            " b) \tTaxpayers feel that they are being treated harshly and the punitive provisions in the tax laws are applied ruthlessly against them. Hence, it is better to be away from the tax department and the number of non-filers of tax returns is increasing.\n",
            " c) \tA proper tax culture can develop only when taxpayers and tax collectors discharge their obligations equally well.\n",
            " d)  Many taxpayers become defiant, demotivated and disillusioned because of wrong notions held by tax collectors about their powers, the desire to pass on their part of work to taxpayers, indifference towards them and an attitude that assessees are out to manipulate figures and evade taxes. Such notions strike at the roots of a healthy tax culture. \n",
            " 6. \tChanging behavior of taxpayers : \n",
            "The present realities of taxpayers' behavior are increasing tendency for payment of lawful tax. Particularly the young businessmen's trend is to pay proper tax, which is a welcome sign. Analytical study of grievance about work culture and sense of fair play on part of the IT authorities will further help.\n",
            " 7. \tTax payers' education : \n",
            "If one learns the basic rules, he feels comfortable in making compliance, and fear about income tax department may remain no longer. In fact many a times it is a fear of unknown. It is necessary to frequently organize meaningful and well designed taxpayers' education and assistance programmes coupled with making available to the taxpayers departmental publication in Hindi, English as well as local language of that State/ region.\n",
            " 8. \tRole of professionals : \n",
            "What is really needed on the part of the tax professionals also is to advice their clients on the present tax scenario which is much liberal than earlier decades. They may play a vital role in educating the taxpayers as to why they should pay right amount of tax.\n",
            " 9. \tStudents are the future of the nation: \n",
            "We should even inculcate among students as to how important it is to pay right amount of tax for the development of nation. They are the future of the nation.\n",
            "10. \tThose having taxable income : \n",
            "Those having taxable income should certainly declare the income, pay income tax and furnish the Income tax return within prescribed time. The default or delay in fulfilling one's obligation may result in levy of interest and penalty. Even in some cases of tax evasion and other serious lapses the authorities may launch prosecution against erring people. The department may carry out Survey. It has also an Investigation wing, which is empowered to carry out search and seizure operations. Therefore one needs to be very careful.\n",
            "11. \tConclusion : \n",
            " Let us take a pledge to help in developing tax culture and help to create a positive public opinion. We need to shun the apathy of some taxpayers who are averse to payment of the taxes. \n",
            " \n",
            " \n",
            "\r\n",
            "\t[As amended by Finance Act, 2021]\n"
          ]
        }
      ]
    },
    {
      "cell_type": "markdown",
      "metadata": {
        "id": "87MXZD8DBW9G"
      },
      "source": [
        "## Following line has the data that we need"
      ]
    },
    {
      "cell_type": "code",
      "metadata": {
        "colab": {
          "base_uri": "https://localhost:8080/"
        },
        "id": "a0JKux3i8qcn",
        "outputId": "0fd192d1-d466-4c69-dd92-fb09f8dd2734"
      },
      "source": [
        "print(inTxData[10])"
      ],
      "execution_count": 41,
      "outputs": [
        {
          "output_type": "stream",
          "name": "stdout",
          "text": [
            " a)  It is an admitted fact that in India, we are lacking tax culture. Despite considerable efforts for widening the tax base, still the number of taxpayers in our country, is about \r\n",
            "82.7 million people which is\r\n",
            "6.25 per cent of the over 132 crore population, which is too small for our country. In contrast, in the U.S., about 45 per cent of the population pays taxes. There are many reasons for this. Part of it has to do with the fact that many Indians do not earn enough annual income to even qualify to pay income tax, but a larger factor has to do with lack of tax culture, as also India's huge rural and underground economies. \n"
          ]
        }
      ]
    },
    {
      "cell_type": "markdown",
      "metadata": {
        "id": "f_n_4kUpJizB"
      },
      "source": [
        "# Finding the total tax paying population"
      ]
    },
    {
      "cell_type": "code",
      "metadata": {
        "id": "8ooj0cGt95D5"
      },
      "source": [
        "total_population = 1320000000.0\n",
        "total_taxpayers = 82700000.0\n",
        "taxpayers_ratio = total_taxpayers/total_population * 100\n",
        "nontaxpayers_ratio = 100 - taxpayers_ratio"
      ],
      "execution_count": 91,
      "outputs": []
    },
    {
      "cell_type": "code",
      "metadata": {
        "colab": {
          "base_uri": "https://localhost:8080/"
        },
        "id": "2HXqgUdZBu0B",
        "outputId": "6457ef57-c1c6-49de-fa76-b1e3287c99cc"
      },
      "source": [
        "print(taxpayers_ratio,nontaxpayers_ratio)"
      ],
      "execution_count": 92,
      "outputs": [
        {
          "output_type": "stream",
          "name": "stdout",
          "text": [
            "6.265151515151516 93.73484848484848\n"
          ]
        }
      ]
    },
    {
      "cell_type": "code",
      "metadata": {
        "colab": {
          "base_uri": "https://localhost:8080/",
          "height": 264
        },
        "id": "nY7tIztOBxFO",
        "outputId": "66ec0fa7-a810-4989-9c6c-f6ed664f40f6"
      },
      "source": [
        "data = numpy.array([taxpayers_ratio,nontaxpayers_ratio])\n",
        "labels = [\"Tax Payers\",\"Non Tax Payers\"]\n",
        "fig1, ax1 = plt.subplots()\n",
        "ax1.pie(data, labels=labels, autopct='%.3f%%')\n",
        "plt.title(\"Tax Payers\", loc='left', fontweight = 'bold')\n",
        "plt.show()"
      ],
      "execution_count": 94,
      "outputs": [
        {
          "output_type": "display_data",
          "data": {
            "image/png": "[encoded data removed]",
            "text/plain": [
              "<Figure size 432x288 with 1 Axes>"
            ]
          },
          "metadata": {}
        }
      ]
    }
  ]
}